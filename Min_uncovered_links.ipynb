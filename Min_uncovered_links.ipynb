{
 "cells": [
  {
   "cell_type": "code",
   "execution_count": 1,
   "id": "5d9a6f67-75d8-4cec-8727-2f445c9c4d8e",
   "metadata": {},
   "outputs": [],
   "source": [
    "from pyomo.environ import *"
   ]
  },
  {
   "cell_type": "code",
   "execution_count": 2,
   "id": "715ef173-59b9-4fe0-a9f7-281a234e7455",
   "metadata": {},
   "outputs": [],
   "source": [
    "#data\n",
    "connections = {\n",
    "    (1,2):1,\n",
    "    (1,4):1,\n",
    "    (2,1):1,\n",
    "    (2,3):1,\n",
    "    (2,5):1,\n",
    "    (3,2):1,\n",
    "    (3,5):1,\n",
    "    (3,6):1,\n",
    "    (4,1):1,\n",
    "    (4,5):1,\n",
    "    (5,2):1,\n",
    "    (5,3):1,\n",
    "    (5,4):1,\n",
    "    (5,6):1,\n",
    "    (6,3):1,\n",
    "    (6,5):1,\n",
    "}   "
   ]
  },
  {
   "cell_type": "code",
   "execution_count": 10,
   "id": "7d44bb34-6597-464c-a444-2fd655cb0234",
   "metadata": {},
   "outputs": [
    {
     "name": "stdout",
     "output_type": "stream",
     "text": [
      "Selected nodes:\n",
      "Node 3\n",
      "Node 5\n",
      "Total number of edges covered: 6.0\n"
     ]
    }
   ],
   "source": [
    "#Model\n",
    "m = ConcreteModel()\n",
    "\n",
    "#define sets\n",
    "m.nodes = Set(initialize = range(1, 7))\n",
    "adj = list(connections.keys()) #converting keys of connections into a list\n",
    "m.A = Set(within = m.nodes*m.nodes, initialize=adj) #defining adjacency matrix\n",
    "\n",
    "#Parameters\n",
    "m.connections = Param(m.A, initialize=connections)\n",
    "\n",
    "#Decision variables\n",
    "m.x = Var(m.nodes, domain=Binary)\n",
    "m.y = Var(m.A, domain=Binary)\n",
    "\n",
    "#Constraint\n",
    "def max_edge_cover(m, i, j):\n",
    "    return (m.x[i] + m.x[j]) >= m.y[i,j] \n",
    "m.ProjectConstraint1 = Constraint(m.A, rule=max_edge_cover)\n",
    "\n",
    "def abc(m, i, j):\n",
    "    return (m.y[i,j] >= m.x[i])\n",
    "m.ProjectConstraint2 = Constraint(m.A, rule=abc)\n",
    "\n",
    "def xyz(m, i, j):\n",
    "    return (m.y[i,j] >= m.x[j])\n",
    "m.ProjectConstraint3 = Constraint(m.A, rule=xyz)\n",
    "\n",
    "def pqr(m):\n",
    "    return sum(m.x[i] for i in m.nodes) <= 2\n",
    "m.ProjectConstraint4 = Constraint(rule=pqr)\n",
    "\n",
    "#Objective function\n",
    "m.obj = Objective(expr = sum(m.y[i,j] for [i,j] in m.A)/2, sense=maximize)\n",
    "\n",
    "#Solve the model\n",
    "SolverFactory('gurobi').solve(m)\n",
    "\n",
    "#print result\n",
    "print(\"Selected nodes:\")\n",
    "for i in m.nodes:\n",
    "    if(m.x[i].value == 1):\n",
    "        print(f\"Node {i}\")\n",
    "\n",
    "print(f\"Total number of edges covered: {m.obj.expr()}\")"
   ]
  },
  {
   "cell_type": "code",
   "execution_count": null,
   "id": "e2998530-eef6-40f7-8e8d-6890ee7d6fd3",
   "metadata": {},
   "outputs": [],
   "source": []
  }
 ],
 "metadata": {
  "kernelspec": {
   "display_name": "Python 3 (ipykernel)",
   "language": "python",
   "name": "python3"
  },
  "language_info": {
   "codemirror_mode": {
    "name": "ipython",
    "version": 3
   },
   "file_extension": ".py",
   "mimetype": "text/x-python",
   "name": "python",
   "nbconvert_exporter": "python",
   "pygments_lexer": "ipython3",
   "version": "3.11.5"
  }
 },
 "nbformat": 4,
 "nbformat_minor": 5
}
