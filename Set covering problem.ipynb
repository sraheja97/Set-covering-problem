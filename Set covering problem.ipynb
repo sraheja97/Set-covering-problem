{
 "cells": [
  {
   "cell_type": "code",
   "execution_count": 27,
   "id": "44199a6d",
   "metadata": {},
   "outputs": [],
   "source": [
    "from pyomo.environ import *"
   ]
  },
  {
   "cell_type": "code",
   "execution_count": 30,
   "id": "531d43ce",
   "metadata": {},
   "outputs": [],
   "source": [
    "#data\n",
    "connections = {\n",
    "    (1,2):1,\n",
    "    (1,4):1,\n",
    "    (2,1):1,\n",
    "    (2,3):1,\n",
    "    (2,5):1,\n",
    "    (3,2):1,\n",
    "    (3,5):1,\n",
    "    (3,6):1,\n",
    "    (4,1):1,\n",
    "    (4,5):1,\n",
    "    (5,2):1,\n",
    "    (5,3):1,\n",
    "    (5,4):1,\n",
    "    (5,6):1,\n",
    "    (6,3):1,\n",
    "    (6,5):1,\n",
    "}   \n",
    "\n",
    "cost = {1:40,2:65,3:43,4:48,5:72,6:36}"
   ]
  },
  {
   "cell_type": "code",
   "execution_count": 31,
   "id": "45a806f7",
   "metadata": {
    "scrolled": true
   },
   "outputs": [
    {
     "name": "stdout",
     "output_type": "stream",
     "text": [
      "Selected nodes are:\n",
      "Node 1\n",
      "Node 3\n",
      "Node 5\n",
      "Minimum total cost is: 155.0\n"
     ]
    }
   ],
   "source": [
    "#Model\n",
    "m = ConcreteModel()\n",
    "\n",
    "#define sets\n",
    "m.nodes = Set(initialize = range(1, 7))\n",
    "adj = list(connections.keys()) #converting keys of connections into a list\n",
    "m.A = Set(within = m.nodes*m.nodes, initialize=adj) #defining adjacency matrix\n",
    "\n",
    "#Parameters\n",
    "m.connections = Param(m.A, initialize=connections)\n",
    "m.cost = Param(m.nodes, initialize=cost)\n",
    "\n",
    "#Decision variables\n",
    "m.x = Var(m.nodes, domain=Binary)\n",
    "\n",
    "#Constraint\n",
    "def min_node_cover(m, i, j):\n",
    "    return (m.x[i] + m.x[j]) >= m.connections[i,j] \n",
    "m.ProjectConstraints = Constraint(m.A, rule=min_node_cover)\n",
    "\n",
    "#Objective function\n",
    "m.obj = Objective(expr = sum(m.cost[i]*m.x[i] for i in m.nodes), sense=minimize)\n",
    "\n",
    "#Solve the model\n",
    "SolverFactory('gurobi').solve(m)\n",
    "\n",
    "#print result\n",
    "print(\"Selected nodes are:\")\n",
    "for i in nodes:\n",
    "    if (m.x[i].value == 1):\n",
    "        print(f\"Node {i}\")\n",
    "print(\"Minimum total cost is:\",m.obj.expr())"
   ]
  },
  {
   "cell_type": "code",
   "execution_count": null,
   "id": "c50cc6dd-26de-4e46-8592-1b89f6238ddd",
   "metadata": {},
   "outputs": [],
   "source": []
  }
 ],
 "metadata": {
  "kernelspec": {
   "display_name": "Python 3 (ipykernel)",
   "language": "python",
   "name": "python3"
  },
  "language_info": {
   "codemirror_mode": {
    "name": "ipython",
    "version": 3
   },
   "file_extension": ".py",
   "mimetype": "text/x-python",
   "name": "python",
   "nbconvert_exporter": "python",
   "pygments_lexer": "ipython3",
   "version": "3.11.5"
  }
 },
 "nbformat": 4,
 "nbformat_minor": 5
}
